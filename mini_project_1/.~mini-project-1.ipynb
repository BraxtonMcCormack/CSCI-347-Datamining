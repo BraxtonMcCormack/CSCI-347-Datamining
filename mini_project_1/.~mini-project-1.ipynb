{
 "cells": [
  {
   "cell_type": "markdown",
   "id": "8ef75d39-7ee9-4641-b644-a027f326f853",
   "metadata": {},
   "source": [
    "# **Mini Project 1 : Exploratory Data Analysis**\n",
    "Ben Heinze, Braxton McCormack, Michael Hagin \\\n",
    "16 February 2024 \\\n",
    "CSCI 347 - Datamining"
   ]
  },
  {
   "cell_type": "markdown",
   "id": "cd726812-236d-4316-970b-4fc3d32b1a06",
   "metadata": {},
   "source": [
    "---"
   ]
  },
  {
   "cell_type": "markdown",
   "id": "1a014007-f414-40c4-aeaa-56e5b334fc35",
   "metadata": {},
   "source": [
    "### Dataset Used\n",
    "* [Student Performance Dataset](https://archive.ics.uci.edu/dataset/320/student+performance)\n",
    "\n",
    "### Helpful Links\n",
    "\n",
    "* [Pandas Frame Documentation](https://pandas.pydata.org/docs/reference/frame.html)\n",
    "* [Markdown Format Cheatsheet](https://github.com/adam-p/markdown-here/wiki/Markdown-Cheatsheet)"
   ]
  },
  {
   "cell_type": "markdown",
   "id": "fd2dedd4-7bb4-479a-9be9-b3473687986c",
   "metadata": {},
   "source": [
    "---\n",
    "## **Part 1 - Introduction**"
   ]
  },
  {
   "cell_type": "markdown",
   "id": "74b88c29-f0b3-4662-ad0f-bc1984423b96",
   "metadata": {},
   "source": [
    "In a well-written paragraph, answer the following questions about the data:\n",
    "\n",
    "### Scoring\n",
    "\n",
    "[4 points] What was the data used for?\n",
    "\n",
    "[2 points] Who (or what organization) uploaded the data?\n",
    "\n",
    "[5 points] How many attributes and how many entities are represented in the data?\n",
    "* number of numerical attributes:\n",
    "* number of categorical attributes:\n",
    "    * Would you suggest that each categorical attribute be label-encoded or one-hot-encoded and why?\n",
    "\n",
    "[4 points] Are there missing values in the data? If so, what proportion of the data is missing\n",
    "overall? What proportion of data is missing per attribute (you may use a plot or table to\n",
    "summarize this information)?\n",
    "\n",
    "[7 points] Why is this data set interesting to you?\n",
    "\n",
    "[6 points] Of the attributes used to describe this data, which do you think are the most\n",
    "descriptive of the data and why (before doing any data analysis) ?\n",
    "\n",
    "---"
   ]
  },
  {
   "cell_type": "markdown",
   "id": "a3201f40-45a3-40ab-a3d3-72bc02e5dc9b",
   "metadata": {},
   "source": [
    "This paper aims to deep dive into the analysis of the Student Performance database, which was provided by Paulo Cortez in 2014. Through real world data gathered through school reports and questionaires from two schools, this dataset seeks to understand how socioeconomic status contributes to high failure rates in Portugal. Cortez created two different datasets; one focuses on Mathematics and the other Portuguese. Our paper will focus on Mathematics dataset for this mini project. \n",
    "\n",
    "Including the three target variables, there are 33 total attributes with 16 numerical features and 17 categorical features. We opted for one-hot encoding beacuse the categorical variables are either mostly binary, which only has two categories, or nomial, which has no inherit order. Label encoding is preferred when there is a large number of categories and they are ordinal.\n",
    "\n",
    "Due to the data being directly derived from school records and surveys,no value is missing from this dataset.\n",
    "\n",
    "The exploration of the Student Performance dataset interested us because of the socioeconomic questions that correlate with a child's school performance and their at-home environment. We expect students with worse family evironments to be correlated with low school performance.\n",
    "\n",
    "\n",
    "Prior to any data anaylysis, we believe the most descriptive variabes in regards to student performance are the data attributes involving family environment and economic status. This list includes variables like father and mother workday alcohol consumption, mother and father education, and  whether the student is in extra paid classes or is in extra-curricular activities. By analysising and predicting which students are more likely to fail,  methods that reduce student failure can be reasearched and applied to students in need.\n",
    "\n"
   ]
  },
  {
   "cell_type": "markdown",
   "id": "64654f81-8519-4e6b-b5b0-69a6d9f723a7",
   "metadata": {},
   "source": [
    "---\n",
    "\n",
    "## **Part 2 - Data Analysis Code**\n",
    "\n",
    "Use Python to write the following functions, without using any functions with the same purpose\n",
    "in sklearn, pandas, numpy, or any other library (though you may want to use these libraries to\n",
    "check your answers)"
   ]
  },
  {
   "cell_type": "code",
   "execution_count": 1,
   "id": "34126946-8c0e-4673-8c89-7f8f5d38d88a",
   "metadata": {},
   "outputs": [],
   "source": [
    "import numpy as np"
   ]
  },
  {
   "cell_type": "markdown",
   "id": "e58bcf8f-d254-427f-8858-a48a0911eaa8",
   "metadata": {},
   "source": [
    "[5 points] A function that will compute the mean of a numerical, multidimensional data set\n",
    "input as a 2-dimensional numpy array"
   ]
  },
  {
   "cell_type": "code",
   "execution_count": 2,
   "id": "bccb51f3-a7ae-4bed-866e-98bc6d019639",
   "metadata": {},
   "outputs": [],
   "source": [
    "def multi_mean(twoD):\n",
    "    mean = []\n",
    "    calc = 0\n",
    "    count = 0\n",
    "    \n",
    "    for i in range(len(twoD[0])):\n",
    "        calc = 0\n",
    "        count = 0\n",
    "        for j in range(len(twoD)):\n",
    "            count += 1\n",
    "            calc += twoD[j][i]\n",
    "\n",
    "        calc = calc/count   \n",
    "        mean.append(calc)\n",
    "    return mean"
   ]
  },
  {
   "cell_type": "markdown",
   "id": "59f9fa4f-c7c3-45a5-afbc-2c13982532fd",
   "metadata": {},
   "source": [
    "[5 points] A function that will compute the sample covariance between two attributes that are\n",
    "input as one-dimensional numpy vectors"
   ]
  },
  {
   "cell_type": "code",
   "execution_count": 3,
   "id": "8c911058-64ff-4f4b-ba21-8e181d55c021",
   "metadata": {},
   "outputs": [],
   "source": [
    "def sample_cov(attribute1, attribute2):\n",
    "    total = 0\n",
    "    avg1 = np.mean(attribute1)\n",
    "    avg2 = np.mean(attribute2)\n",
    "\n",
    "    for i in range(len(attribute1 - 1)):\n",
    "        total += ((attribute1[i] - avg1) * (attribute2[i] - avg2))\n",
    "        \n",
    "    cov = total/(len(attribute1) - 1)\n",
    "    return cov"
   ]
  },
  {
   "cell_type": "markdown",
   "id": "5b91b2c9-6454-41fc-8fe0-e222e02cab9c",
   "metadata": {},
   "source": [
    "[5 points] A function that will compute the correlation between two attributes that are input as two numpy vectors."
   ]
  },
  {
   "cell_type": "code",
   "execution_count": 4,
   "id": "dcdfdfde-35ab-4997-9a97-12a6be4f48e6",
   "metadata": {},
   "outputs": [],
   "source": [
    "def corr(vector1, vector2):\n",
    "    SD1 = np.std(vector1)\n",
    "    SD2 = np.std(vector2)\n",
    "\n",
    "    corr = sample_cov(vector1, vector2)/(((sample_cov(vector1, vector1) * sample_cov(vector2, vector2))**.5))\n",
    "\n",
    "    return corr"
   ]
  },
  {
   "cell_type": "markdown",
   "id": "2fdc57a2-21a9-4300-ad95-157d184bc2df",
   "metadata": {},
   "source": [
    "[5 points] A function that will normalize the attributes in a two-dimensional numpy array using range normalization."
   ]
  },
  {
   "cell_type": "code",
   "execution_count": 5,
   "id": "0fc0b274-19ba-4a1c-9df7-b916d8932d89",
   "metadata": {},
   "outputs": [],
   "source": [
    "def range_norm(twoD):\n",
    "    mean = multi_mean(twoD)\n",
    "    normalized_num = 0\n",
    "    normalized = []\n",
    "    norm_part = []\n",
    "    count = 0\n",
    "\n",
    "    for i in range(len(twoD)):\n",
    "        for j in range(len(twoD[0])):\n",
    "            norm_part.append(twoD[i][j] - mean[j])\n",
    "            count += 1\n",
    "            if count == len(twoD[0]):\n",
    "                normalized.append(norm_part)\n",
    "                count = 0\n",
    "                norm_part = []\n",
    "\n",
    "    return normalized\n",
    "    \n",
    "att1 = [1, 3, 5]\n",
    "att1 = np.array(att1)\n",
    "\n",
    "att2 = [5, 10, 15]\n",
    "att2 = np.array(att2)\n",
    "\n",
    "\"\"\"vec1 = [1, 5]\n",
    "vec1 = np.array(vec1)\n",
    "\n",
    "vec2 = [3, 10]\n",
    "vec2 = np.array(vec2)\"\"\"\n",
    "\n",
    "#print(multi_mean(a))\n",
    "#print(sample_cov(att1, att2))\n",
    "#print(corr(att1, att2))\n",
    "print(range_norm(a))\n",
    "\n"
   ]
  },
  {
   "cell_type": "markdown",
   "id": "4ae364ac-94c7-4aac-b2af-4182a42ca9c6",
   "metadata": {},
   "source": [
    "[5 points] A function that will normalize the attributes in a two-dimensional numpy array using standard normalization."
   ]
  },
  {
   "cell_type": "markdown",
   "id": "8cf9629f-3797-4fb5-b8e6-8f223b0f2829",
   "metadata": {},
   "source": [
    "[5 points] A function that will compute the covariance matrix of a data set."
   ]
  },
  {
   "cell_type": "markdown",
   "id": "89265894-98ab-4549-a19f-cbf2aca647ad",
   "metadata": {},
   "source": [
    "[5 points] A function that will label-encode a two-dimensional categorical data array that is\n",
    "passed in as input."
   ]
  },
  {
   "cell_type": "markdown",
   "id": "f4b736c8-c2ca-416e-9865-f7d14ca2cadc",
   "metadata": {},
   "source": [
    "---\n",
    "\n",
    "## **Part 3 - Data Analysis**"
   ]
  },
  {
   "cell_type": "markdown",
   "id": "7cbe5037-3c5b-4879-88f0-b323d62bad14",
   "metadata": {},
   "source": [
    "Use your code from Part 2 to answer the following questions in a well-written paragraph, and create the following plots from the numerical portion of the data: \n",
    "\n",
    "Use your functions to compute the multi-variate mean and covariance matrix of the numerical portion of your data set.\n",
    "\n",
    "• __Before answering the questions:__ \\\n",
    "• [5 points] Convert all categorical attributes using label encoding or one-hot-encoding \\\n",
    "• [2 points] If your data has missing values, fill in those values with the attribute mean.\n",
    "\n",
    "### Scoring"
   ]
  },
  {
   "cell_type": "markdown",
   "id": "6d8ffbb8-cd91-4ea5-8473-d98a8e9bbb9f",
   "metadata": {},
   "source": [
    "[2 points] What is the multivariate mean of the numerical data matrix (where categorical data\n",
    "have been converted to numerical values)?\n",
    "\n",
    "[4 points] What is the covariance matrix of the numerical data matrix (where categorical data\n",
    "have been converted to numerical values)?\n",
    "\n",
    "[5 points] Choose 5 pairs of attributes that you think could be related. Create scatter plots of\n",
    "all 5 pairs and include these in your report, along with a description and analysis that\n",
    "summarizes why these pairs of attributes might be related, and how the scatter plots do or\n",
    "do not support this intuition.\n",
    "\n",
    "[3 points] Which range-normalized numerical attributes have the greatest sample covariance?\n",
    "What is their sample covariance? Create a scatter plot of these range-normalized attributes.\n",
    "\n",
    "[3 points] Which Z-score-normalized numerical attributes have the greatest correlation? What\n",
    "is their correlation? Create a scatter plot of these Z-score-normalized attributes.\n",
    "\n",
    "[3 points] Which Z-score-normalized numerical attributes have the smallest correlation? What\n",
    "is their correlation? Create a scatter plot of these Z-score-normalized attributes.\n",
    "\n",
    "[3 points] How many pairs of features have correlation greater than or equal to 0.5?\n",
    "\n",
    "[3 points] How many pairs of features have negative sample covariance?\n",
    "\n",
    "[2 points] What is the total variance of the data?\n",
    "\n",
    "[2 points] What is the total variance of the data, restricted to the five features that have the\n",
    "greatest sample variance?\n"
   ]
  },
  {
   "cell_type": "markdown",
   "id": "e4d154cc-a45f-4a67-aca7-4a44054d0e85",
   "metadata": {},
   "source": [
    "---\n",
    "\n",
    "## **Works Cited**\n",
    "\n",
    "- Cortez,Paulo. (2014). Student Performance. UCI Machine Learning Repository. https://doi.org/10.24432/C5TG7T."
   ]
  },
  {
   "cell_type": "markdown",
   "id": "b7fcea3f-a5c4-4d8c-a7b9-dd5da2851d79",
   "metadata": {},
   "source": [
    "---\n",
    "## Make sure the following criteria is filled:\n"
   ]
  },
  {
   "cell_type": "markdown",
   "id": "52a4000f-5ed5-4105-b391-c318089522e4",
   "metadata": {},
   "source": [
    "- Your submission must include the complete written report and all associated code.\n",
    "Ensure that your code is well-commented to facilitate understanding of the methods used\n",
    "to generate your results.\n",
    "- The full names of all members should be included in the first page of the report as well\n",
    "as name of the file (it can include only last names).\n",
    "- The team size must be between 2-4 members.\n",
    "- Each team is required to submit their report and code only once per team, and the same\n",
    "team member should submit on both D2L and GradeScope platforms. Multiple submission\n",
    "by same person is allowed.\n",
    "- The submission on GradeScope will be the primary document for grading purposes.\n",
    "- To clarify individual contributions, please prefix your initials before each question (or part)\n",
    "to indicate who worked on each problem.\n",
    "- Please be aware of the following points, as failure to comply will result in a deduction of\n",
    "points:\n",
    "    * teams with fewer than 2 or more than 4 members.\n",
    "    * Missing partners name on either the report or file name\n",
    "    * Multiple submissions by the same team, even if identical.\n",
    "    * Different versions of the report submitted by various team members\n",
    "    * If your report does not include the necessary code, or if the code provided is not appropriately attached as a supplementary document or as inline code following each question.\n",
    "    * Reports that are disorganized, unreadable, or contain excessive unrelated code\n",
    "Missing initials for each question."
   ]
  },
  {
   "cell_type": "code",
   "execution_count": null,
   "id": "9a07e1ee-8696-4149-9bd8-645577d07b9b",
   "metadata": {},
   "outputs": [],
   "source": []
  },
  {
   "cell_type": "code",
   "execution_count": null,
   "id": "18d8f171-7571-402d-8887-71f01bff8d78",
   "metadata": {},
   "outputs": [],
   "source": []
  }
 ],
 "metadata": {
  "kernelspec": {
   "display_name": "Python 3 (ipykernel)",
   "language": "python",
   "name": "python3"
  },
  "language_info": {
   "codemirror_mode": {
    "name": "ipython",
    "version": 3
   },
   "file_extension": ".py",
   "mimetype": "text/x-python",
   "name": "python",
   "nbconvert_exporter": "python",
   "pygments_lexer": "ipython3",
   "version": "3.11.8"
  }
 },
 "nbformat": 4,
 "nbformat_minor": 5
}
